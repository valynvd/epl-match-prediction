{
  "cells": [
    {
      "cell_type": "code",
      "execution_count": 1,
      "metadata": {
        "colab": {
          "base_uri": "https://localhost:8080/",
          "height": 705
        },
        "id": "lmXhMrAF3L6Y",
        "outputId": "933aca64-ae12-46a0-86c6-f054d29ca4d0"
      },
      "outputs": [
        {
          "name": "stdout",
          "output_type": "stream",
          "text": [
            "Accuracy: 0.5947368421052631\n",
            "Precision: 0.5654574969791418\n",
            "Recall: 0.5947368421052631\n",
            "F1 Score: 0.57211371744752\n",
            "\n",
            "Classification Report:\n",
            "               precision    recall  f1-score   support\n",
            "\n",
            "           0       0.66      0.61      0.63       110\n",
            "           1       0.33      0.21      0.25        97\n",
            "           2       0.64      0.80      0.71       173\n",
            "\n",
            "    accuracy                           0.59       380\n",
            "   macro avg       0.54      0.54      0.53       380\n",
            "weighted avg       0.57      0.59      0.57       380\n",
            "\n"
          ]
        },
        {
          "data": {
            "image/png": "[encoded data removed]",
            "text/plain": [
              "<Figure size 600x400 with 2 Axes>"
            ]
          },
          "metadata": {},
          "output_type": "display_data"
        },
        {
          "name": "stdout",
          "output_type": "stream",
          "text": [
            "Predicted Match Outcome for Man United vs Chelsea: H\n"
          ]
        }
      ],
      "source": [
        "import pandas as pd\n",
        "import numpy as np\n",
        "import matplotlib.pyplot as plt\n",
        "import seaborn as sns\n",
        "from sklearn.model_selection import train_test_split\n",
        "from sklearn.preprocessing import LabelEncoder, StandardScaler\n",
        "from sklearn.ensemble import RandomForestClassifier\n",
        "from sklearn.metrics import accuracy_score, precision_score, recall_score, f1_score, classification_report, confusion_matrix\n",
        "\n",
        "# Load dataset\n",
        "df = pd.read_csv(\"combined_data.csv\")\n",
        "\n",
        "# Ensure necessary columns exist\n",
        "required_columns = ['HomeTeam', 'AwayTeam', 'FTR', 'HS', 'AS', 'HST', 'AST', 'HF', 'AF', 'HTAG', 'HTHG', 'HC', 'AC', 'HY', 'AY', 'HR', 'AR']\n",
        "missing_columns = [col for col in required_columns if col not in df.columns]\n",
        "if missing_columns:\n",
        "    raise ValueError(f\"Missing required columns: {missing_columns}\")\n",
        "\n",
        "# Drop rows with missing values only in required columns\n",
        "df.dropna(subset=required_columns, inplace=True)\n",
        "\n",
        "# Ensure dataset is not empty after removing missing values\n",
        "if df.empty:\n",
        "    raise ValueError(\"Dataset is empty after removing missing values.\")\n",
        "\n",
        "# Encoding categorical variables\n",
        "le = LabelEncoder()\n",
        "df['FTR'] = le.fit_transform(df['FTR'])  # Full-time result (target variable)\n",
        "\n",
        "team_encoder = LabelEncoder()\n",
        "df['HomeTeam'] = team_encoder.fit_transform(df['HomeTeam'])\n",
        "df['AwayTeam'] = team_encoder.transform(df['AwayTeam'])\n",
        "\n",
        "# Selecting relevant features\n",
        "features = ['HomeTeam', 'AwayTeam', 'HS', 'AS', 'HST', 'AST', 'HF', 'AF', 'HTAG', 'HTHG', 'HC', 'AC', 'HY', 'AY', 'HR', 'AR']\n",
        "target = 'FTR'\n",
        "\n",
        "X = df[features]\n",
        "y = df[target]\n",
        "\n",
        "# Ensure dataset is not empty\n",
        "if X.shape[0] == 0:\n",
        "    raise ValueError(\"Dataset is empty after preprocessing.\")\n",
        "\n",
        "# Splitting data\n",
        "X_train, X_test, y_train, y_test = train_test_split(X, y, test_size=0.2, random_state=42, stratify=y)\n",
        "\n",
        "# Scaling features\n",
        "scaler = StandardScaler()\n",
        "X_train = scaler.fit_transform(X_train)\n",
        "X_test = scaler.transform(X_test)\n",
        "\n",
        "# Train model with tuned hyperparameters to avoid overfitting\n",
        "model = RandomForestClassifier(n_estimators=200, max_depth=10, min_samples_split=5, random_state=42)\n",
        "model.fit(X_train, y_train)\n",
        "\n",
        "# Predictions\n",
        "y_pred = model.predict(X_test)\n",
        "\n",
        "# Evaluate model\n",
        "accuracy = accuracy_score(y_test, y_pred)\n",
        "precision = precision_score(y_test, y_pred, average='weighted')\n",
        "recall = recall_score(y_test, y_pred, average='weighted')\n",
        "f1 = f1_score(y_test, y_pred, average='weighted')\n",
        "\n",
        "# Display results\n",
        "print(\"Accuracy:\", accuracy)\n",
        "print(\"Precision:\", precision)\n",
        "print(\"Recall:\", recall)\n",
        "print(\"F1 Score:\", f1)\n",
        "print(\"\\nClassification Report:\\n\", classification_report(y_test, y_pred))\n",
        "\n",
        "# Confusion Matrix\n",
        "plt.figure(figsize=(6, 4))\n",
        "sns.heatmap(confusion_matrix(y_test, y_pred), annot=True, fmt='d', cmap='Blues')\n",
        "plt.xlabel(\"Predicted\")\n",
        "plt.ylabel(\"Actual\")\n",
        "plt.title(\"Confusion Matrix\")\n",
        "plt.show()\n",
        "\n",
        "# Function to test a new prediction\n",
        "def predict_match(home_team_name, away_team_name, hs, as_, hst, ast, hf, af, htag, hthg, hc, ac, hy, ay, hr, ar):\n",
        "    if home_team_name not in team_encoder.classes_ or away_team_name not in team_encoder.classes_:\n",
        "        raise ValueError(\"One or both team names are not recognized.\")\n",
        "\n",
        "    home_team = team_encoder.transform([home_team_name])[0]\n",
        "    away_team = team_encoder.transform([away_team_name])[0]\n",
        "\n",
        "    input_df = pd.DataFrame([[home_team, away_team, hs, as_, hst, ast, hf, af, htag, hthg, hc, ac, hy, ay, hr, ar]],\n",
        "                        columns=features)\n",
        "    input_scaled = scaler.transform(input_df)\n",
        "    prediction = model.predict(input_scaled)\n",
        "    result = le.inverse_transform(prediction)[0]\n",
        "    return result\n",
        "\n",
        "# Example usage\n",
        "home_team = \"Man United\"\n",
        "away_team = \"Chelsea\"\n",
        "example_result = predict_match(home_team, away_team, 10, 8, 5, 4, 12, 10, 1, 2, 6, 5, 2, 1, 0, 0)\n",
        "print(f\"Predicted Match Outcome for {home_team} vs {away_team}: {example_result}\")"
      ]
    }
  ],
  "metadata": {
    "colab": {
      "provenance": []
    },
    "kernelspec": {
      "display_name": "Python 3",
      "name": "python3"
    },
    "language_info": {
      "codemirror_mode": {
        "name": "ipython",
        "version": 3
      },
      "file_extension": ".py",
      "mimetype": "text/x-python",
      "name": "python",
      "nbconvert_exporter": "python",
      "pygments_lexer": "ipython3",
      "version": "3.12.9"
    }
  },
  "nbformat": 4,
  "nbformat_minor": 0
}
